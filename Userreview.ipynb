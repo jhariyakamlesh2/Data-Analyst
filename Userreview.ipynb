{
  "nbformat": 4,
  "nbformat_minor": 0,
  "metadata": {
    "colab": {
      "provenance": [],
      "toc_visible": true,
      "authorship_tag": "ABX9TyMk6I67tyin6BjlIaaudbKd",
      "include_colab_link": true
    },
    "kernelspec": {
      "name": "python3",
      "display_name": "Python 3"
    },
    "language_info": {
      "name": "python"
    }
  },
  "cells": [
    {
      "cell_type": "markdown",
      "metadata": {
        "id": "view-in-github",
        "colab_type": "text"
      },
      "source": [
        "<a href=\"https://colab.research.google.com/github/jhariyakamlesh2/Data-Analyst/blob/master/Userreview.ipynb\" target=\"_parent\"><img src=\"https://colab.research.google.com/assets/colab-badge.svg\" alt=\"Open In Colab\"/></a>"
      ]
    },
    {
      "cell_type": "code",
      "execution_count": 2,
      "metadata": {
        "colab": {
          "base_uri": "https://localhost:8080/"
        },
        "id": "7lb1J5Ow4DFn",
        "outputId": "d2f23123-a49b-46b4-fe47-bfdaa07d04fe"
      },
      "outputs": [
        {
          "output_type": "stream",
          "name": "stdout",
          "text": [
            "Customer Reviews with Sentiment:\n",
            "           Review Sentiment\n",
            "0   Great service  Positive\n",
            "1   Too expensive  Negative\n",
            "2        Loved it  Positive\n",
            "3  Bad experience  Negative\n",
            "\n",
            "Sentiment Counts:\n",
            "Sentiment\n",
            "Positive    2\n",
            "Negative    2\n",
            "Name: count, dtype: int64\n"
          ]
        }
      ],
      "source": [
        "import pandas as pd\n",
        "\n",
        "data = {\n",
        "    \"Review\": [\"Great service\", \"Too expensive\", \"Loved it\", \"Bad experience\"]\n",
        "}\n",
        "df = pd.DataFrame(data)\n",
        "\n",
        "df[\"Sentiment\"] = [\"Positive\", \"Negative\", \"Positive\", \"Negative\"]\n",
        "\n",
        "print(\"Customer Reviews with Sentiment:\")\n",
        "print(df)\n",
        "\n",
        "sentiment_counts = df[\"Sentiment\"].value_counts()\n",
        "\n",
        "print(\"\\nSentiment Counts:\")\n",
        "print(sentiment_counts)\n"
      ]
    }
  ]
}