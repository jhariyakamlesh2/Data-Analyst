{
  "nbformat": 4,
  "nbformat_minor": 0,
  "metadata": {
    "colab": {
      "provenance": [],
      "include_colab_link": true
    },
    "kernelspec": {
      "name": "python3",
      "display_name": "Python 3"
    },
    "language_info": {
      "name": "python"
    }
  },
  "cells": [
    {
      "cell_type": "markdown",
      "metadata": {
        "id": "view-in-github",
        "colab_type": "text"
      },
      "source": [
        "<a href=\"https://colab.research.google.com/github/jhariyakamlesh2/Data-Analyst/blob/master/Numpy_in_gen_ai_and_agentic_ai.ipynb\" target=\"_parent\"><img src=\"https://colab.research.google.com/assets/colab-badge.svg\" alt=\"Open In Colab\"/></a>"
      ]
    },
    {
      "cell_type": "code",
      "execution_count": null,
      "metadata": {
        "id": "n-CJWh50ovpH"
      },
      "outputs": [],
      "source": [
        "import numpy as np"
      ]
    },
    {
      "cell_type": "code",
      "source": [
        "# Arrays\n",
        "arr = np.array([1, 2, 3, 4, 5])\n",
        "print(\"Array:\" , arr)"
      ],
      "metadata": {
        "colab": {
          "base_uri": "https://localhost:8080/"
        },
        "id": "Fo_ZNMNZo9ic",
        "outputId": "f3ebc1af-9988-4501-fedc-79fa36459e46"
      },
      "execution_count": null,
      "outputs": [
        {
          "output_type": "stream",
          "name": "stdout",
          "text": [
            "Array: [1 2 3 4 5]\n"
          ]
        }
      ]
    },
    {
      "cell_type": "code",
      "source": [
        "# Random numbers of AI\n",
        "rand = np.random.rand(5) # Gaussian Distribution\n",
        "print(\"Random Vector:\" , rand)"
      ],
      "metadata": {
        "colab": {
          "base_uri": "https://localhost:8080/"
        },
        "id": "oi8LWNRKpNmr",
        "outputId": "8554e605-4cd5-46c4-f420-5bf19a69f28f"
      },
      "execution_count": null,
      "outputs": [
        {
          "output_type": "stream",
          "name": "stdout",
          "text": [
            "Random Vector: [0.62684839 0.81130625 0.45220587 0.25763863 0.75901389]\n"
          ]
        }
      ]
    },
    {
      "cell_type": "code",
      "source": [
        "# Matrix for Embeddings\n",
        "mat = np.random.rand(3 , 3)\n",
        "print(\"Matrix: \\n\" , mat)"
      ],
      "metadata": {
        "colab": {
          "base_uri": "https://localhost:8080/"
        },
        "id": "klSs4uFVppKi",
        "outputId": "486a447f-74e3-4164-ebb4-5f8420158589"
      },
      "execution_count": null,
      "outputs": [
        {
          "output_type": "stream",
          "name": "stdout",
          "text": [
            "Matrix: \n",
            " [[0.89246659 0.17384834 0.03878023]\n",
            " [0.8891092  0.51975738 0.32205202]\n",
            " [0.96285361 0.11494342 0.17476922]]\n"
          ]
        }
      ]
    },
    {
      "cell_type": "code",
      "source": [
        "# Basic Operations\n",
        "print(\"Mean:\" , np.mean(mat))\n",
        "print(\"Dot Product:\" , np.dot(arr[:3], rand[:3]))"
      ],
      "metadata": {
        "colab": {
          "base_uri": "https://localhost:8080/"
        },
        "id": "-x41fUWFqW9H",
        "outputId": "80c9b8a8-f917-4d93-9f4c-1b11d891eb59"
      },
      "execution_count": null,
      "outputs": [
        {
          "output_type": "stream",
          "name": "stdout",
          "text": [
            "Mean: 0.4542866688875314\n",
            "Dot Product: 3.6060784949580267\n"
          ]
        }
      ]
    },
    {
      "cell_type": "code",
      "source": [
        "vec_a = np.random.randn(100)\n",
        "vec_b = np.random.randn(100)\n",
        "new_vec = 0.5*vec_a + 0.5*vec_b"
      ],
      "metadata": {
        "id": "sCZqnGI6q50j"
      },
      "execution_count": null,
      "outputs": []
    },
    {
      "cell_type": "code",
      "source": [
        "actions = [\"move\", \"turn\", \"pick\"]\n",
        "prob = [0.4, 0.3, 0.3]\n",
        "print(np.random.choice(actions, p = prob))"
      ],
      "metadata": {
        "colab": {
          "base_uri": "https://localhost:8080/"
        },
        "id": "dS_UWRkPrglG",
        "outputId": "47f89400-e826-4052-fd3e-f750c07213be"
      },
      "execution_count": null,
      "outputs": [
        {
          "output_type": "stream",
          "name": "stdout",
          "text": [
            "pick\n"
          ]
        }
      ]
    },
    {
      "cell_type": "code",
      "source": [
        "def cosine(a,b):\n",
        "  return np.dot(a, b) /(np.linalg.norm(a)*np.linalg.norm(b))"
      ],
      "metadata": {
        "id": "AuRlgRvDse5G"
      },
      "execution_count": null,
      "outputs": []
    },
    {
      "cell_type": "code",
      "source": [],
      "metadata": {
        "id": "dZc7SL9Qs811"
      },
      "execution_count": null,
      "outputs": []
    }
  ]
}