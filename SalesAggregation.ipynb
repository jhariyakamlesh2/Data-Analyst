{
  "nbformat": 4,
  "nbformat_minor": 0,
  "metadata": {
    "colab": {
      "provenance": [],
      "authorship_tag": "ABX9TyMHaTwIAecj694RPk2+fRW9",
      "include_colab_link": true
    },
    "kernelspec": {
      "name": "python3",
      "display_name": "Python 3"
    },
    "language_info": {
      "name": "python"
    }
  },
  "cells": [
    {
      "cell_type": "markdown",
      "metadata": {
        "id": "view-in-github",
        "colab_type": "text"
      },
      "source": [
        "<a href=\"https://colab.research.google.com/github/jhariyakamlesh2/Data-Analyst/blob/master/SalesAggregation.ipynb\" target=\"_parent\"><img src=\"https://colab.research.google.com/assets/colab-badge.svg\" alt=\"Open In Colab\"/></a>"
      ]
    },
    {
      "cell_type": "code",
      "execution_count": 1,
      "metadata": {
        "colab": {
          "base_uri": "https://localhost:8080/"
        },
        "id": "ooCnNjZi8Wvw",
        "outputId": "dfeeb165-8b69-43f0-ed2d-219d8d858794"
      },
      "outputs": [
        {
          "output_type": "stream",
          "name": "stdout",
          "text": [
            "Total Revenue Per Region:\n",
            " Region\n",
            "East     192000\n",
            "North    205000\n",
            "South    245000\n",
            "West     225000\n",
            "Name: Revenue, dtype: int64\n",
            "\n",
            "Average Profit Per Region:\n",
            " Region\n",
            "East     40000.0\n",
            "North    41500.0\n",
            "South    50000.0\n",
            "West     46500.0\n",
            "Name: Profit, dtype: float64\n",
            "\n",
            "Best Region to Invest: South (Average Profit: ₹50000.00)\n"
          ]
        }
      ],
      "source": [
        "import pandas as pd\n",
        "\n",
        "data = {\n",
        "    \"Region\": [\"North\", \"South\", \"East\", \"West\", \"North\", \"South\", \"East\", \"West\"],\n",
        "    \"Revenue\": [100000, 120000, 95000, 110000, 105000, 125000, 97000, 115000],\n",
        "    \"Cost\": [60000, 70000, 55000, 65000, 62000, 75000, 57000, 67000]\n",
        "}\n",
        "\n",
        "df = pd.DataFrame(data)\n",
        "\n",
        "df[\"Profit\"] = df[\"Revenue\"] - df[\"Cost\"]\n",
        "\n",
        "total_revenue = df.groupby(\"Region\")[\"Revenue\"].sum()\n",
        "\n",
        "average_profit = df.groupby(\"Region\")[\"Profit\"].mean()\n",
        "\n",
        "best_region = average_profit.idxmax()\n",
        "best_profit = average_profit.max()\n",
        "\n",
        "print(\"Total Revenue Per Region:\\n\", total_revenue)\n",
        "print(\"\\nAverage Profit Per Region:\\n\", average_profit)\n",
        "print(f\"\\nBest Region to Invest: {best_region} (Average Profit: ₹{best_profit:.2f})\")\n"
      ]
    }
  ]
}