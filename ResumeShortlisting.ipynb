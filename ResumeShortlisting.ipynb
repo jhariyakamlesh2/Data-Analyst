{
  "nbformat": 4,
  "nbformat_minor": 0,
  "metadata": {
    "colab": {
      "provenance": [],
      "authorship_tag": "ABX9TyMmOHmWrDZs65lMVSbLw8Gh",
      "include_colab_link": true
    },
    "kernelspec": {
      "name": "python3",
      "display_name": "Python 3"
    },
    "language_info": {
      "name": "python"
    }
  },
  "cells": [
    {
      "cell_type": "markdown",
      "metadata": {
        "id": "view-in-github",
        "colab_type": "text"
      },
      "source": [
        "<a href=\"https://colab.research.google.com/github/jhariyakamlesh2/Data-Analyst/blob/master/ResumeShortlisting.ipynb\" target=\"_parent\"><img src=\"https://colab.research.google.com/assets/colab-badge.svg\" alt=\"Open In Colab\"/></a>"
      ]
    },
    {
      "cell_type": "code",
      "execution_count": 2,
      "metadata": {
        "colab": {
          "base_uri": "https://localhost:8080/"
        },
        "id": "jA7SPx74_crQ",
        "outputId": "b5abfec1-f582-4d0a-f9b9-214abc2482cc"
      },
      "outputs": [
        {
          "output_type": "stream",
          "name": "stdout",
          "text": [
            "Shortlisted Candidates with 'AI' or 'Python' in Skills:\n",
            "      Name                                   Skills  Experience\n",
            "0  Pradeep  Python, Data Analysis, Machine Learning           3\n",
            "2    Ahmad                AI, Deep Learning, Python           2\n",
            "4  Nandini              AI, Python, Cloud Computing           4\n"
          ]
        }
      ],
      "source": [
        "import pandas as pd\n",
        "\n",
        "data = {\n",
        "    \"Name\": [\"Pradeep\", \"Rakesh\", \"Ahmad\", \"Saurabh\", \"Nandini\"],\n",
        "    \"Skills\": [\n",
        "        \"Python, Data Analysis, Machine Learning\",\n",
        "        \"Java, C++, Web Development\",\n",
        "        \"AI, Deep Learning, Python\",\n",
        "        \"Project Management, Agile\",\n",
        "        \"AI, Python, Cloud Computing\"\n",
        "    ],\n",
        "    \"Experience\": [3, 5, 2, 6, 4]\n",
        "}\n",
        "\n",
        "df = pd.DataFrame(data)\n",
        "\n",
        "filtered_df = df[df[\"Skills\"].str.contains(\"AI|Python\", case=False)]\n",
        "print(\"Shortlisted Candidates with 'AI' or 'Python' in Skills:\")\n",
        "print(filtered_df)\n"
      ]
    }
  ]
}