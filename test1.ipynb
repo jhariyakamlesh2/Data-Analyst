{
  "nbformat": 4,
  "nbformat_minor": 0,
  "metadata": {
    "colab": {
      "provenance": [],
      "authorship_tag": "ABX9TyP7H5Bj+y+mCgbowdpPqI/p",
      "include_colab_link": true
    },
    "kernelspec": {
      "name": "python3",
      "display_name": "Python 3"
    },
    "language_info": {
      "name": "python"
    }
  },
  "cells": [
    {
      "cell_type": "markdown",
      "metadata": {
        "id": "view-in-github",
        "colab_type": "text"
      },
      "source": [
        "<a href=\"https://colab.research.google.com/github/jhariyakamlesh2/Data-Analyst/blob/master/test1.ipynb\" target=\"_parent\"><img src=\"https://colab.research.google.com/assets/colab-badge.svg\" alt=\"Open In Colab\"/></a>"
      ]
    },
    {
      "cell_type": "code",
      "execution_count": 1,
      "metadata": {
        "id": "PweXTVBNsWof",
        "colab": {
          "base_uri": "https://localhost:8080/"
        },
        "outputId": "731ac920-43b0-4fee-8231-776944756695"
      },
      "outputs": [
        {
          "output_type": "stream",
          "name": "stdout",
          "text": [
            "Name       Math   Science  English  Attendance Average \n",
            "------------------------------------------------------------\n",
            "Priya      80     89       62       65         77.0    \n",
            "Rohan      97     50       87       84         78.0    \n",
            "Kriti      87     73       78       63         79.33   \n",
            "Amit       59     88       98       69         81.67   \n",
            "Sneha      62     80       71       82         71.0    \n",
            "Vikram     53     94       62       93         69.67   \n",
            "Neha       61     98       69       71         76.0    \n",
            "Arjun      96     80       56       73         77.33   \n",
            "Meena      83     79       57       91         73.0    \n",
            "Rahul      84     93       99       89         92.0    \n",
            "Mahesh     98     80       80       100        86.0    \n"
          ]
        }
      ],
      "source": [
        "class Student:\n",
        "    def __init__(self, name, math, science, english, attendance):\n",
        "        self.name = name\n",
        "        self.math = math\n",
        "        self.science = science\n",
        "        self.english = english\n",
        "        self.attendance = attendance\n",
        "\n",
        "    def average(self):\n",
        "        \"\"\"Calculate average marks.\"\"\"\n",
        "        return round((self.math + self.science + self.english) / 3, 2)\n",
        "\n",
        "    def display(self):\n",
        "        \"\"\"Display student details in a row format.\"\"\"\n",
        "        print(f\"{self.name:<10} {self.math:<6} {self.science:<8} {self.english:<8} {self.attendance:<10} {self.average():<8}\")\n",
        "\n",
        "\n",
        "# List of students (you can load from CSV too)\n",
        "students = [\n",
        "    Student(\"Priya\", 80, 89, 62, 65),\n",
        "    Student(\"Rohan\", 97, 50, 87, 84),\n",
        "    Student(\"Kriti\", 87, 73, 78, 63),\n",
        "    Student(\"Amit\", 59, 88, 98, 69),\n",
        "    Student(\"Sneha\", 62, 80, 71, 82),\n",
        "    Student(\"Vikram\", 53, 94, 62, 93),\n",
        "    Student(\"Neha\", 61, 98, 69, 71),\n",
        "    Student(\"Arjun\", 96, 80, 56, 73),\n",
        "    Student(\"Meena\", 83, 79, 57, 91),\n",
        "    Student(\"Rahul\", 84, 93, 99, 89),\n",
        "    Student(\"Simran\", 76, 63,66,78),\n",
        "    Student(\"Teens\", 95,61,93,75),\n",
        "    Student(\"Deepak\",58,72,54,96),\n",
        "    Student(\"Manoj\", 76,70,73,83),\n",
        "    Student(\"Karan\", 85, 82, 84, 72),\n",
        "    Student(\"Divya\", 53, 96, 77, 77),\n",
        "    Student(\"ritu\", 70,74,57,70);\n",
        "    Student(\"Ankit\", 79,87,70,64);\n",
        "    # ... (continue adding all students here)\n",
        "    Student(\"Mahesh\", 98, 80, 80, 100)\n",
        "]\n",
        "\n",
        "# Display table header\n",
        "print(f\"{'Name':<10} {'Math':<6} {'Science':<8} {'English':<8} {'Attendance':<10} {'Average':<8}\")\n",
        "print(\"-\" * 60)\n",
        "\n",
        "# Display all student info\n",
        "for s in students:\n",
        "    s.display()\n",
        "\n",
        "\n",
        "class Student:\n",
        "    def __init__(self, name, math, science, english):\n",
        "        \"\"\"Initialize student name and marks.\"\"\"\n",
        "        self.name = name\n",
        "        self.math = math\n",
        "        self.science = science\n",
        "        self.english = english\n",
        "\n",
        "    def average(self):\n",
        "        \"\"\"Return the average marks of the student.\"\"\"\n",
        "        return round((self.math + self.science + self.english) / 3, 2)\n",
        "\n",
        "    def grade(self):\n",
        "        \"\"\"Return grade based on the average marks.\"\"\"\n",
        "        avg = self.average()\n",
        "        if avg >= 90:\n",
        "            return \"A\"\n",
        "        elif avg >= 75:\n",
        "            return \"B\"\n",
        "        elif avg >= 60:\n",
        "            return \"C\"\n",
        "        elif avg >= 50:\n",
        "            return \"D\"\n",
        "        else:\n",
        "            return \"F\"\n",
        "\n",
        "    def display(self):\n",
        "        \"\"\"Display student details.\"\"\"\n",
        "        print(f\"Name: {self.name}\")\n",
        "        print(f\"Marks → Math: {self.math}, Science: {self.science}, English: {self.english}\")\n",
        "        print(f\"Average: {self.average()} | Grade: {self.grade()}\")\n",
        "        print(\"-\" * 40)\n",
        "\n",
        "\n",
        "\n"
      ]
    }
  ]
}