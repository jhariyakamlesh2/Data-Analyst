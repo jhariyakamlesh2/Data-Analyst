{
  "nbformat": 4,
  "nbformat_minor": 0,
  "metadata": {
    "colab": {
      "provenance": [],
      "authorship_tag": "ABX9TyMv3UJ/Q2r1daPPgjwA4JNg",
      "include_colab_link": true
    },
    "kernelspec": {
      "name": "python3",
      "display_name": "Python 3"
    },
    "language_info": {
      "name": "python"
    }
  },
  "cells": [
    {
      "cell_type": "markdown",
      "metadata": {
        "id": "view-in-github",
        "colab_type": "text"
      },
      "source": [
        "<a href=\"https://colab.research.google.com/github/jhariyakamlesh2/Data-Analyst/blob/master/test1.ipynb\" target=\"_parent\"><img src=\"https://colab.research.google.com/assets/colab-badge.svg\" alt=\"Open In Colab\"/></a>"
      ]
    },
    {
      "cell_type": "code",
      "execution_count": null,
      "metadata": {
        "id": "PweXTVBNsWof"
      },
      "outputs": [],
      "source": [
        "class students\n",
        "    def __init_(name,marks ):\n",
        "        self.name=name\n",
        "        self.marks=marks\n",
        "    def display(self):\n",
        "        print(self.name,self.marks)\n",
        "    def grade(self):\n",
        "        if self.marks>=90:\n",
        "            print(\"\" grade A\")\n",
        "            if self.marks>=80 and self.marks:\n",
        "                print(\"grade B\")\n",
        "\n",
        "\n",
        "\n",
        "\n",
        ""
      ]
    }
  ]
}