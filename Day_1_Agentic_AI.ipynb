{
  "nbformat": 4,
  "nbformat_minor": 0,
  "metadata": {
    "colab": {
      "provenance": [],
      "include_colab_link": true
    },
    "kernelspec": {
      "name": "python3",
      "display_name": "Python 3"
    },
    "language_info": {
      "name": "python"
    }
  },
  "cells": [
    {
      "cell_type": "markdown",
      "metadata": {
        "id": "view-in-github",
        "colab_type": "text"
      },
      "source": [
        "<a href=\"https://colab.research.google.com/github/jhariyakamlesh2/Data-Analyst/blob/master/Day_1_Agentic_AI.ipynb\" target=\"_parent\"><img src=\"https://colab.research.google.com/assets/colab-badge.svg\" alt=\"Open In Colab\"/></a>"
      ]
    },
    {
      "cell_type": "code",
      "execution_count": null,
      "metadata": {
        "colab": {
          "base_uri": "https://localhost:8080/"
        },
        "id": "6VlVjHuMbJ4g",
        "outputId": "82ff2faa-b8a7-499d-8b80-bd86f28e2cba"
      },
      "outputs": [
        {
          "output_type": "stream",
          "name": "stdout",
          "text": [
            "Agent: I'll check the weather\n"
          ]
        }
      ],
      "source": [
        "def simple_agent(task):\n",
        "  if \"weather\" in task:\n",
        "    return \"Agent: I'll check the weather\"\n",
        "  elif \"email\" in task:\n",
        "    return \"Agent: Drafting an email\"\n",
        "  else:\n",
        "    return \"Agent: Task not recognized\"\n",
        "print(simple_agent(\"check weather\"))"
      ]
    },
    {
      "cell_type": "code",
      "source": [],
      "metadata": {
        "id": "30MEUVoGbmD8"
      },
      "execution_count": null,
      "outputs": []
    },
    {
      "cell_type": "markdown",
      "source": [
        "smarter agent with tools\n"
      ],
      "metadata": {
        "id": "0zQFZJgddd3k"
      }
    },
    {
      "cell_type": "code",
      "source": [
        "def get_weather():\n",
        "  return \"Today's weather is sunny\"\n",
        "\n",
        "def draft_email():\n",
        "  return \"Email drafted: 'Hello, this is a test email.'\"\n",
        "\n",
        "def smart_agent(task):\n",
        "  if \"weather\" in task:\n",
        "    return get_weather()\n",
        "  elif \"email\" in task:\n",
        "    return draft_email()\n",
        "  else:\n",
        "    return \"I don't know how to handle that yet\"\n",
        "print(smart_agent(\"check weather\"))\n",
        "print(smart_agent(\"send email\"))"
      ],
      "metadata": {
        "colab": {
          "base_uri": "https://localhost:8080/"
        },
        "id": "Vaf36GRedgyS",
        "outputId": "f90a7812-765a-4952-a3ea-057360a858d1"
      },
      "execution_count": null,
      "outputs": [
        {
          "output_type": "stream",
          "name": "stdout",
          "text": [
            "Today's weather is sunny\n",
            "Email drafted: 'Hello, this is a test email.'\n"
          ]
        }
      ]
    },
    {
      "cell_type": "markdown",
      "source": [
        "Dynamic agent (Tool registry)"
      ],
      "metadata": {
        "id": "L5TutqiAfdLh"
      }
    },
    {
      "cell_type": "code",
      "source": [
        "tools = {\n",
        "    \"weather\" : get_weather,\n",
        "    \"email\" : draft_email\n",
        "}\n",
        "\n",
        "def langchain_style_agent(task):\n",
        "  for keyword, tool in tools.items():\n",
        "    if keyword in task:\n",
        "      return tool()\n",
        "  return \"sorry, I don't have a tool for that yet\"\n",
        "print(langchain_style_agent(\"please get me the weather\"))\n",
        "print(langchain_style_agent(\"can you draft an email?\"))"
      ],
      "metadata": {
        "colab": {
          "base_uri": "https://localhost:8080/"
        },
        "id": "8W7O_vgVfMy6",
        "outputId": "c6161604-4231-45ae-9268-36a2e6bab84f"
      },
      "execution_count": null,
      "outputs": [
        {
          "output_type": "stream",
          "name": "stdout",
          "text": [
            "Today's weather is sunny\n",
            "Email drafted: 'Hello, this is a test email.'\n"
          ]
        }
      ]
    },
    {
      "cell_type": "code",
      "source": [],
      "metadata": {
        "id": "vW5Z3_2ug5uh"
      },
      "execution_count": null,
      "outputs": []
    }
  ]
}